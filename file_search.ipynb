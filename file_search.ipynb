{
 "cells": [
  {
   "metadata": {},
   "cell_type": "markdown",
   "source": "## Import Required packages",
   "id": "20f226cd40795adc"
  },
  {
   "cell_type": "code",
   "id": "initial_id",
   "metadata": {
    "collapsed": true,
    "ExecuteTime": {
     "end_time": "2024-09-18T14:42:52.058274Z",
     "start_time": "2024-09-18T14:42:51.133836Z"
    }
   },
   "source": [
    "import os\n",
    "\n",
    "from dotenv import load_dotenv\n",
    "from openai import OpenAI, AssistantEventHandler\n",
    "from typing_extensions import override\n",
    "\n",
    "load_dotenv()\n",
    "\n",
    "# Load the API key from the .env file\n",
    "OPENAI_KEY = os.getenv(\"OPENAI_KEY\")\n",
    "\n",
    " \n",
    "client = OpenAI(api_key=OPENAI_KEY)"
   ],
   "outputs": [],
   "execution_count": 21
  },
  {
   "metadata": {},
   "cell_type": "markdown",
   "source": "## Create Assistance",
   "id": "ab329fae9918f6e8"
  },
  {
   "metadata": {
    "ExecuteTime": {
     "end_time": "2024-09-18T14:42:53.299709Z",
     "start_time": "2024-09-18T14:42:52.073275Z"
    }
   },
   "cell_type": "code",
   "source": [
    "assistant = client.beta.assistants.create(\n",
    "  name=\"Weather Agent BD\",\n",
    "  instructions=\"You are an expert in providing weather forecasts and climate data. Use your knowledge base to give accurate weather updates and predict future conditions for locations.\",\n",
    "  model=\"gpt-4o\",\n",
    "  tools=[{\"type\": \"file_search\"}],  # You would need the appropriate weather tool here\n",
    ")"
   ],
   "id": "3219b16c65516ac8",
   "outputs": [],
   "execution_count": 22
  },
  {
   "metadata": {},
   "cell_type": "markdown",
   "source": "## Create Vector Store",
   "id": "1ddf2acd4d518957"
  },
  {
   "metadata": {
    "ExecuteTime": {
     "end_time": "2024-09-18T14:43:05.388109Z",
     "start_time": "2024-09-18T14:42:53.330305Z"
    }
   },
   "cell_type": "code",
   "source": [
    "# Create a vector store caled \"Financial Statements\"\n",
    "vector_store = client.beta.vector_stores.create(name=\"Weather forcast\")\n",
    "# I want give the file path which is store in the same directory\n",
    "file_paths = [\"sorted_temp_and_rain_dataset_text_file.txt\"]\n",
    "file_streams = [open(path, \"rb\") for path in file_paths]\n",
    "\n",
    "# Use the upload and poll SDK helper to upload the files, add them to the vector store,\n",
    "# and poll the status of the file batch for completion.\n",
    "file_batch = client.beta.vector_stores.file_batches.upload_and_poll(\n",
    "  vector_store_id=vector_store.id, files=file_streams\n",
    ")\n",
    " \n",
    "# You can print the status and the file counts of the batch to see the result of this operation.\n",
    "print(file_batch.status)\n",
    "print(file_batch.file_counts)"
   ],
   "id": "1659b133e8688ad0",
   "outputs": [
    {
     "name": "stdout",
     "output_type": "stream",
     "text": [
      "completed\n",
      "FileCounts(cancelled=0, completed=1, failed=0, in_progress=0, total=1)\n"
     ]
    }
   ],
   "execution_count": 23
  },
  {
   "metadata": {},
   "cell_type": "markdown",
   "source": "## Update Assistance",
   "id": "a3466d7613a3cfa0"
  },
  {
   "metadata": {
    "ExecuteTime": {
     "end_time": "2024-09-18T14:43:05.963017Z",
     "start_time": "2024-09-18T14:43:05.419348Z"
    }
   },
   "cell_type": "code",
   "source": [
    "assistant = client.beta.assistants.update(\n",
    "  assistant_id=assistant.id,\n",
    "  tool_resources={\"file_search\": {\"vector_store_ids\": [vector_store.id]}},\n",
    ")"
   ],
   "id": "1bd8819ab8d30582",
   "outputs": [],
   "execution_count": 24
  },
  {
   "metadata": {},
   "cell_type": "markdown",
   "source": "## Create a Tread",
   "id": "34fb4b82f437413f"
  },
  {
   "metadata": {
    "ExecuteTime": {
     "end_time": "2024-09-18T14:43:06.345473Z",
     "start_time": "2024-09-18T14:43:05.985633Z"
    }
   },
   "cell_type": "code",
   "source": [
    "thread = client.beta.threads.create(\n",
    "    messages=[\n",
    "      {\n",
    "          \"role\": \"user\",\n",
    "          \"content\": \"What was the average temperature in Dhaka in 2020?\",\n",
    "      }\n",
    "    ]\n",
    ")\n",
    "print(thread.tool_resources.file_search)"
   ],
   "id": "abb44cb572c32acc",
   "outputs": [
    {
     "name": "stdout",
     "output_type": "stream",
     "text": [
      "None\n"
     ]
    }
   ],
   "execution_count": 25
  },
  {
   "metadata": {},
   "cell_type": "markdown",
   "source": "## Create a run and check the output",
   "id": "b5cadbc66aaba6f4"
  },
  {
   "metadata": {
    "ExecuteTime": {
     "end_time": "2024-09-18T14:43:17.049221Z",
     "start_time": "2024-09-18T14:43:06.380360Z"
    }
   },
   "cell_type": "code",
   "source": [
    "class EventHandler(AssistantEventHandler):\n",
    "    @override\n",
    "    def on_text_created(self, text) -> None:\n",
    "        print(f\"\\nassistant > \", end=\"\", flush=True)\n",
    "        \n",
    "    @override\n",
    "    def on_tool_call_created(self, tool_call):\n",
    "        print(f\"\\nassistant > {tool_call.type}\\n\", flush=True)\n",
    "        \n",
    "    \n",
    "    @override\n",
    "    def on_message_done(self, message) -> None:\n",
    "        # print a citation to the file searched\n",
    "        message_content = message.content[0].text\n",
    "\n",
    "        print(message_content.value)\n",
    "        \n",
    "with client.beta.threads.runs.stream(\n",
    "    thread_id=thread.id,\n",
    "    assistant_id=assistant.id,\n",
    "    instructions=\"Please address the user as Jane Doe. The user has a premium account.\",\n",
    "    event_handler=EventHandler(),\n",
    ") as stream:\n",
    "    stream.until_done()\n",
    "    "
   ],
   "id": "2b18c722e3a0823e",
   "outputs": [
    {
     "name": "stdout",
     "output_type": "stream",
     "text": [
      "\n",
      "assistant > file_search\n",
      "\n",
      "\n",
      "assistant > The average monthly temperatures for Dhaka in 2020 were as follows:\n",
      "\n",
      "- January: 16.56°C\n",
      "- February: 18.85°C\n",
      "- March: 24.56°C\n",
      "- April: 27.41°C\n",
      "- May: 27.99°C\n",
      "- June: 28.03°C\n",
      "- July: 28.39°C\n",
      "- August: 28.51°C\n",
      "- September: 28.28°C\n",
      "- October: 27.61°C\n",
      "- November: 22.97°C\n",
      "- December: 17.91°C\n",
      "\n",
      "To compute the annual average temperature, sum these monthly averages and divide by 12:\n",
      "\n",
      "\\[ \\text{Annual Average Temperature} = \\frac{16.56 + 18.85 + 24.56 + 27.41 + 27.99 + 28.03 + 28.39 + 28.51 + 28.28 + 27.61 + 22.97 + 17.91}{12} = \\frac{297.07}{12} = 24.76 \\text{°C} \\]\n",
      "\n",
      "So, the average temperature in Dhaka in 2020 was approximately 24.76°C【4:0†source】【4:1†source】.\n"
     ]
    }
   ],
   "execution_count": 26
  },
  {
   "metadata": {},
   "cell_type": "markdown",
   "source": "",
   "id": "c3bbfbf703fb39"
  }
 ],
 "metadata": {
  "kernelspec": {
   "display_name": "Python 3",
   "language": "python",
   "name": "python3"
  },
  "language_info": {
   "codemirror_mode": {
    "name": "ipython",
    "version": 2
   },
   "file_extension": ".py",
   "mimetype": "text/x-python",
   "name": "python",
   "nbconvert_exporter": "python",
   "pygments_lexer": "ipython2",
   "version": "2.7.6"
  }
 },
 "nbformat": 4,
 "nbformat_minor": 5
}
